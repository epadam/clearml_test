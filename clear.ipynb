{
  "cells": [
    {
      "cell_type": "markdown",
      "metadata": {
        "id": "view-in-github",
        "colab_type": "text"
      },
      "source": [
        "<a href=\"https://colab.research.google.com/github/epadam/clearml_test/blob/main/clear.ipynb\" target=\"_parent\"><img src=\"https://colab.research.google.com/assets/colab-badge.svg\" alt=\"Open In Colab\"/></a>"
      ]
    },
    {
      "cell_type": "code",
      "execution_count": null,
      "metadata": {
        "id": "7a8WnKZigzMy"
      },
      "outputs": [],
      "source": [
        "!pip install clearml"
      ]
    },
    {
      "cell_type": "code",
      "execution_count": 2,
      "metadata": {
        "colab": {
          "base_uri": "https://localhost:8080/"
        },
        "id": "BMetlizdkOid",
        "outputId": "d8539b37-5afc-480b-ff56-ef446986ad77"
      },
      "outputs": [
        {
          "output_type": "stream",
          "name": "stdout",
          "text": [
            "ClearML SDK setup process\n",
            "\n",
            "Please create new clearml credentials through the settings page in your `clearml-server` web app (e.g. http://localhost:8080//settings/workspace-configuration) \n",
            "Or create a free account at https://app.clear.ml/settings/workspace-configuration\n",
            "\n",
            "In settings page, press \"Create new credentials\", then press \"Copy to clipboard\".\n",
            "\n",
            "Paste copied configuration here:\n",
            "api {      # Andrew Huang's workspace     web_server: https://app.clear.ml     api_server: https://api.clear.ml     files_server: https://files.clear.ml     credentials {         \"access_key\" = \"GH5BN5M4BH2VL06JG57Y\"         \"secret_key\" = \"ds7kkJeGzAQcUXzbKK1WEwU6arPKJnFTrzcbv0VczRcNL08wr8\"     } }\n",
            "Detected credentials key=\"GH5BN5M4BH2VL06JG57Y\" secret=\"ds7k***\"\n",
            "WEB Host configured to: [https://app.clear.ml] \n",
            "API Host configured to: [https://api.clear.ml] \n",
            "File Store Host configured to: [https://files.clear.ml] \n",
            "\n",
            "ClearML Hosts configuration:\n",
            "Web App: https://app.clear.ml\n",
            "API: https://api.clear.ml\n",
            "File Store: https://files.clear.ml\n",
            "\n",
            "Verifying credentials ...\n",
            "Credentials verified!\n",
            "\n",
            "New configuration stored in /root/clearml.conf\n",
            "ClearML setup completed successfully.\n"
          ]
        }
      ],
      "source": [
        "!clearml-init"
      ]
    },
    {
      "cell_type": "code",
      "source": [
        "!git init"
      ],
      "metadata": {
        "colab": {
          "base_uri": "https://localhost:8080/"
        },
        "id": "7TqF1m67_HYP",
        "outputId": "38f4b3da-e459-4b11-856c-6b741dde2979"
      },
      "execution_count": 3,
      "outputs": [
        {
          "output_type": "stream",
          "name": "stdout",
          "text": [
            "Initialized empty Git repository in /content/.git/\n"
          ]
        }
      ]
    },
    {
      "cell_type": "code",
      "source": [
        "!git remote add origin https://github.com/epadam/clearml_test.git "
      ],
      "metadata": {
        "id": "yoeGk9xO8tzT"
      },
      "execution_count": 4,
      "outputs": []
    },
    {
      "cell_type": "code",
      "source": [
        "!git pull origin main"
      ],
      "metadata": {
        "colab": {
          "base_uri": "https://localhost:8080/"
        },
        "id": "n_QnudDa_Q9Y",
        "outputId": "535d66ee-ad8c-466e-d18c-5bdeddd44665"
      },
      "execution_count": 5,
      "outputs": [
        {
          "output_type": "stream",
          "name": "stdout",
          "text": [
            "remote: Enumerating objects: 6, done.\u001b[K\n",
            "remote: Counting objects:  16% (1/6)\u001b[K\rremote: Counting objects:  33% (2/6)\u001b[K\rremote: Counting objects:  50% (3/6)\u001b[K\rremote: Counting objects:  66% (4/6)\u001b[K\rremote: Counting objects:  83% (5/6)\u001b[K\rremote: Counting objects: 100% (6/6)\u001b[K\rremote: Counting objects: 100% (6/6), done.\u001b[K\n",
            "remote: Compressing objects:  33% (1/3)\u001b[K\rremote: Compressing objects:  66% (2/3)\u001b[K\rremote: Compressing objects: 100% (3/3)\u001b[K\rremote: Compressing objects: 100% (3/3), done.\u001b[K\n",
            "remote: Total 6 (delta 0), reused 0 (delta 0), pack-reused 0\u001b[K\n",
            "Unpacking objects:  16% (1/6)   \rUnpacking objects:  33% (2/6)   \rUnpacking objects:  50% (3/6)   \rUnpacking objects:  66% (4/6)   \rUnpacking objects:  83% (5/6)   \rUnpacking objects: 100% (6/6)   \rUnpacking objects: 100% (6/6), done.\n",
            "From https://github.com/epadam/clearml_test\n",
            " * branch            main       -> FETCH_HEAD\n",
            " * [new branch]      main       -> origin/main\n"
          ]
        }
      ]
    },
    {
      "cell_type": "code",
      "source": [
        "from clearml import Task"
      ],
      "metadata": {
        "id": "sH-sCV2I21Sx"
      },
      "execution_count": 6,
      "outputs": []
    },
    {
      "cell_type": "code",
      "source": [
        "task = Task.create(\n",
        "    project_name='epadam3', \n",
        "    task_name='test1',\n",
        "    repo='https://github.com/epadam/clearml_test.git',\n",
        "    branch='main',\n",
        "    script='main.py',\n",
        "    working_directory='.',\n",
        "    docker=None,\n",
        ")"
      ],
      "metadata": {
        "id": "CAIyxm1ox_e6"
      },
      "execution_count": 6,
      "outputs": []
    },
    {
      "cell_type": "code",
      "source": [
        "task = Task.init(\n",
        "    project_name='epadam3',    # project name of at least 3 characters\n",
        "    task_name='test1', # task name of at least 3 characters\n",
        "    task_type=None,\n",
        "    tags=None,\n",
        "    reuse_last_task_id=True,\n",
        "    continue_last_task=False,\n",
        "    output_uri=None,\n",
        "    auto_connect_arg_parser=True,\n",
        "    auto_connect_frameworks=True,\n",
        "    auto_resource_monitoring=True,\n",
        "    auto_connect_streams=True,    \n",
        ")"
      ],
      "metadata": {
        "colab": {
          "base_uri": "https://localhost:8080/"
        },
        "id": "2IeD49bQ2x5F",
        "outputId": "77c19607-9e45-43a2-d715-4196e2d50a01"
      },
      "execution_count": 7,
      "outputs": [
        {
          "output_type": "stream",
          "name": "stdout",
          "text": [
            "ClearML Task: created new task id=893eb86a574a44ddb0a95b3d5b384358\n",
            "ClearML results page: https://app.clear.ml/projects/3b7db39cb8bf4db48cf8e0dcdcb42f15/experiments/893eb86a574a44ddb0a95b3d5b384358/output/log\n",
            "ClearML Monitor: GPU monitoring failed getting GPU reading, switching off GPU monitoring\n"
          ]
        }
      ]
    },
    {
      "cell_type": "code",
      "source": [
        "from __future__ import print_function\n",
        "import argparse\n",
        "import torch\n",
        "import torch.nn as nn\n",
        "import torch.nn.functional as F\n",
        "import torch.optim as optim\n",
        "from torchvision import datasets, transforms\n",
        "from torch.optim.lr_scheduler import StepLR"
      ],
      "metadata": {
        "id": "n7Z4VCGb7GjC"
      },
      "execution_count": 9,
      "outputs": []
    },
    {
      "cell_type": "code",
      "source": [
        "!git add ."
      ],
      "metadata": {
        "id": "k0UvG0S37awE"
      },
      "execution_count": 10,
      "outputs": []
    },
    {
      "cell_type": "code",
      "source": [
        "!git push origin main"
      ],
      "metadata": {
        "colab": {
          "base_uri": "https://localhost:8080/"
        },
        "id": "GyLCk-wpEyE6",
        "outputId": "c8798b8e-2d00-47a4-b2e8-7cefc0b777f3"
      },
      "execution_count": 12,
      "outputs": [
        {
          "output_type": "stream",
          "name": "stdout",
          "text": [
            "error: src refspec main does not match any.\n",
            "error: failed to push some refs to 'https://github.com/epadam/clearml_test.git'\n"
          ]
        }
      ]
    }
  ],
  "metadata": {
    "colab": {
      "name": "clear.ipynb",
      "provenance": [],
      "authorship_tag": "ABX9TyMgcdofeqtnTJ7Py7cXAZsY",
      "include_colab_link": true
    },
    "kernelspec": {
      "display_name": "Python 3",
      "name": "python3"
    },
    "language_info": {
      "name": "python"
    }
  },
  "nbformat": 4,
  "nbformat_minor": 0
}